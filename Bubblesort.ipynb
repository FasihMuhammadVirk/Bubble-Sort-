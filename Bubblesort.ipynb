{
  "nbformat": 4,
  "nbformat_minor": 0,
  "metadata": {
    "colab": {
      "name": "Bubblesort.ipynb",
      "provenance": [],
      "collapsed_sections": []
    },
    "kernelspec": {
      "name": "python3",
      "display_name": "Python 3"
    },
    "language_info": {
      "name": "python"
    }
  },
  "cells": [
    {
      "cell_type": "code",
      "execution_count": null,
      "metadata": {
        "colab": {
          "base_uri": "https://localhost:8080/"
        },
        "id": "fTNHJDV_PN0H",
        "outputId": "c3857f44-0554-45f7-e398-9e4e25c3c09c"
      },
      "outputs": [
        {
          "output_type": "stream",
          "name": "stdout",
          "text": [
            "Enter the size of the Array: 3\n",
            "Enter 1 value: 2\n",
            "Enter 2 value: 1\n",
            "Enter 3 value: 3\n",
            "Sorted Array\n",
            "\n",
            "1\n",
            "2\n",
            "3\n"
          ]
        }
      ],
      "source": [
        "def bubblesort(arr):\n",
        "  n = len(arr)\n",
        "  for i in range(n-1):\n",
        "    for j in range(n-1):\n",
        "      if arr[j]>arr[j+1]:\n",
        "        arr[j],arr[j+1] = arr[j+1],arr[j]\n",
        "\n",
        "array = []\n",
        "size = int(input(\"Enter the size of the Array: \"))\n",
        "for i in range(size):\n",
        "  val = input(f\"Enter {i+1} value: \")\n",
        "  array.append(val)\n",
        "print(\"Sorted Array\\n\")\n",
        "bubblesort(array)\n",
        "for i in range(size):\n",
        "  print(array[i])\n"
      ]
    },
    {
      "cell_type": "code",
      "source": [
        "def asscending(arr):\n",
        "  n = len(arr)\n",
        "  for i in range(n-1):\n",
        "    for j in range(n-1):\n",
        "      if arr[j]<arr[j+1]:\n",
        "        arr[j],arr[j+1] = arr[j+1],arr[j]\n",
        "\n",
        "array = []\n",
        "size = int(input(\"Enter the size of the Array: \"))\n",
        "for i in range(size):\n",
        "  val = input(f\"Enter {i+1} value: \")\n",
        "  array.append(val)\n",
        "print(\"Sorted Array\\n\")\n",
        "asscending(array)\n",
        "for i in range(size):\n",
        "  print(array[i])\n",
        "\n"
      ],
      "metadata": {
        "colab": {
          "base_uri": "https://localhost:8080/"
        },
        "id": "1Qr6zoWmRFkP",
        "outputId": "9bc42341-9b61-4d7a-95f3-05c05de5f2e8"
      },
      "execution_count": null,
      "outputs": [
        {
          "output_type": "stream",
          "name": "stdout",
          "text": [
            "Enter the size of the Array: 4\n",
            "Enter 1 value: 1\n",
            "Enter 2 value: 2\n",
            "Enter 3 value: 3\n",
            "Enter 4 value: 4\n",
            "Sorted Array\n",
            "\n",
            "4\n",
            "3\n",
            "2\n",
            "1\n"
          ]
        }
      ]
    },
    {
      "cell_type": "code",
      "source": [
        "def alphabetorder(arr):\n",
        "  n = len(arr)\n",
        "  for i in range(n-1):\n",
        "    for j in range(n-1):\n",
        "      if arr[j]>arr[j+1]:\n",
        "        arr[j],arr[j+1] = arr[j+1],arr[j]\n",
        "\n",
        "array = []\n",
        "size = int(input(\"Enter the size of the Array: \"))\n",
        "for i in range(size):\n",
        "  val = input(f\"Enter {i+1} value: \")\n",
        "  array.append(val)\n",
        "print(\"Sorted Array\\n\")\n",
        "alphabetorder(array)\n",
        "for i in range(size):\n",
        "  print(array[i])\n",
        "\n"
      ],
      "metadata": {
        "colab": {
          "base_uri": "https://localhost:8080/"
        },
        "id": "KxRVSx0wSZyX",
        "outputId": "6b286c7c-8178-43a1-e1ea-f12dd622e84b"
      },
      "execution_count": null,
      "outputs": [
        {
          "output_type": "stream",
          "name": "stdout",
          "text": [
            "Enter the size of the Array: 4\n",
            "Enter 1 value: d\n",
            "Enter 2 value: c\n",
            "Enter 3 value: a\n",
            "Enter 4 value: b\n",
            "Sorted Array\n",
            "\n",
            "a\n",
            "b\n",
            "c\n",
            "d\n"
          ]
        }
      ]
    }
  ]
}